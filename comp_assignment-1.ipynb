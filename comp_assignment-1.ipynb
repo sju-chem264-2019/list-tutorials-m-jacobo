{
 "cells": [
  {
   "cell_type": "markdown",
   "metadata": {},
   "source": [
    "# Computational Assignment 1"
   ]
  },
  {
   "cell_type": "markdown",
   "metadata": {},
   "source": [
    " **Assigned Monday, 9-9-19.**, **Due Thursday, 9-12-19.**"
   ]
  },
  {
   "cell_type": "markdown",
   "metadata": {},
   "source": [
    "Most of the problems we encounter in computational chemistry are multidimensional. This means that we need to be able to work with vectors and matrices in our code. Even when we consider a 1-dimensional function, we still need to code all of the data points into a list. \n",
    "\n",
    "Additionally, when we need to analyze data, we don't want to reinvent the wheel. It can be useful to code your own math operation once to learn how it work, but most of the time you should be using existing libraries in your work. We will cover how to use math and science libraries to run calcualtions.\n",
    "\n",
    "This notebook will cover the following concepts:\n",
    "\n",
    "1. Lists and arrays\n",
    "1. Defining lists\n",
    "1. Accessing list values\n",
    "1. Changing lists\n",
    "1. Counting, sorting, and looping methods"
   ]
  },
  {
   "cell_type": "markdown",
   "metadata": {},
   "source": [
    "## 1. Lists and Arrays"
   ]
  },
  {
   "cell_type": "markdown",
   "metadata": {},
   "source": [
    "Computers regularly deal with multidimensional data. Even if you have one-dimensional data from some sort of function, $F(t)$, you would write the data points into a list of numbers. When talking about code, we call these lists or arrays. "
   ]
  },
  {
   "cell_type": "code",
   "execution_count": 2,
   "metadata": {},
   "outputs": [],
   "source": [
    "my_list=[1,2,3,4,5,6,7]"
   ]
  },
  {
   "cell_type": "markdown",
   "metadata": {},
   "source": [
    "Python specifically has a few of ways to handle arrays. The most basic data object for handeling data is the **list**. The other two data objects are **tuples** and **dictionaries**. \n",
    "\n",
    "Lists are defined with brackets `[]`\n",
    "Tuples are defined with parenthessis `()`\n",
    "Dictionaries are defined with curly brackets `{}`\n",
    "\n",
    "We won't spend much time with tuples. They behave a lot like lists, but once make one, you can't change any of the values in the tuple. This can be useful if you want to make sure data values are not changed through a calculation. They also tend be faster to process, but you won't notice the speedup unless you are trying to process lots of data (Gb of data). "
   ]
  },
  {
   "cell_type": "markdown",
   "metadata": {},
   "source": [
    "## 1.1 Defining Lists"
   ]
  },
  {
   "cell_type": "markdown",
   "metadata": {},
   "source": [
    "In python, we create **lists** by defining a set of numbers in a bracket "
   ]
  },
  {
   "cell_type": "code",
   "execution_count": 3,
   "metadata": {},
   "outputs": [
    {
     "data": {
      "text/plain": [
       "[1, 2, 3]"
      ]
     },
     "execution_count": 3,
     "metadata": {},
     "output_type": "execute_result"
    }
   ],
   "source": [
    "[1,2,3]"
   ]
  },
  {
   "cell_type": "markdown",
   "metadata": {},
   "source": [
    "You should also make sure to define your list as a variable so that you can use it later. Otherwise there is no way to call it. If you don't want to overwrite your variable, use a different name for the new varaiable"
   ]
  },
  {
   "cell_type": "code",
   "execution_count": 4,
   "metadata": {},
   "outputs": [
    {
     "name": "stdout",
     "output_type": "stream",
     "text": [
      "[1, 2, 3]\n"
     ]
    }
   ],
   "source": [
    "my_list2=[1,2,3]\n",
    "print(my_list2)"
   ]
  },
  {
   "cell_type": "markdown",
   "metadata": {},
   "source": [
    "You can also define an empty list. This is sometimes usefull if you plan to add alements to the list (more on the later "
   ]
  },
  {
   "cell_type": "code",
   "execution_count": 5,
   "metadata": {},
   "outputs": [],
   "source": [
    "empty=[]"
   ]
  },
  {
   "cell_type": "markdown",
   "metadata": {},
   "source": [
    "Lists also don't have to be numbers. They can be a collection of strings (text)"
   ]
  },
  {
   "cell_type": "code",
   "execution_count": 6,
   "metadata": {},
   "outputs": [],
   "source": [
    "sonoran_plants=[\"saguaro\",\"ocotillo\",\"pitaya\",\"creosote\"]"
   ]
  },
  {
   "cell_type": "markdown",
   "metadata": {},
   "source": [
    "Your list can be a list of lists! Notice the line break. You can do that when there is a comma. This helps make your code readable, which is one of the underlying philosophies of python"
   ]
  },
  {
   "cell_type": "code",
   "execution_count": 7,
   "metadata": {},
   "outputs": [],
   "source": [
    "sonoran_plants_animals=[[\"saguaro\",\"ocotillo\",\"pitaya\",\"creosote\"],\n",
    "                        [\"coyote\",\"kangaroo mouse\",\"javalina\",\"gila monster\"]]"
   ]
  },
  {
   "cell_type": "markdown",
   "metadata": {},
   "source": [
    "Notice that the two nested lists are different sizes. Mathematically, these lists are not going to behave like vectors or matrices. Python will not add or multiply a list according to the rules of matrix algebra. This is fine. When we need matrices and vectors, it will make more sense to use arrays associated with the math library Numpy. And the Numpy library can usually understand most python lists. Most of the time, if you are using a list, you are mostly trying to organize data, not run a heavy calculation."
   ]
  },
  {
   "cell_type": "markdown",
   "metadata": {},
   "source": [
    "### Exercise 1.1: \n",
    "Make your own lists. \n",
    "\n",
    "1. Make a one-dimensional list of numbers \n",
    "1. A three dimensional list of numbers (a list of three lists)\n",
    "1. Make a lists of strings\n",
    "1. Make a two-dimensional list of strings\n",
    "1. Print all of your lists\n",
    "\n",
    "Make sure to define your lists with variables. We will use your lists later on"
   ]
  },
  {
   "cell_type": "code",
   "execution_count": 8,
   "metadata": {},
   "outputs": [
    {
     "name": "stdout",
     "output_type": "stream",
     "text": [
      "[1, 3, 5, 7, 9]\n",
      "[[5, 3, 1997], [4, 19, 2012], [1, 17, 2006]]\n",
      "['blue', 'green', 'purple', 'red']\n",
      "[['dog', 'cat', 'leopard'], ['lily', 'orchid', 'rose']]\n"
     ]
    }
   ],
   "source": [
    "# Your code here\n",
    "oneD_list_numbers=[1,3,5,7,9]\n",
    "threeD_list_numbers=[[5,3,1997],[4,19,2012],[1,17,2006]]\n",
    "oneD_list_strings=[\"blue\",\"green\",\"purple\",\"red\"]\n",
    "twoD_list_strings=[[\"dog\",\"cat\",\"leopard\"],[\"lily\",\"orchid\",\"rose\"]]\n",
    "print(oneD_list_numbers)\n",
    "print(threeD_list_numbers)\n",
    "print(oneD_list_strings)\n",
    "print(twoD_list_strings)"
   ]
  },
  {
   "cell_type": "markdown",
   "metadata": {},
   "source": [
    "## 1.2 List indexing "
   ]
  },
  {
   "cell_type": "markdown",
   "metadata": {},
   "source": [
    "Once you've made a list, you need to know how to get values from the list. To get a value from list use square brackets next to the variable name. `my_list[index]`. The first thing to note is that list indeces start at 0"
   ]
  },
  {
   "cell_type": "code",
   "execution_count": 9,
   "metadata": {},
   "outputs": [
    {
     "name": "stdout",
     "output_type": "stream",
     "text": [
      "[1, 2, 3, 4, 5, 6, 7]\n"
     ]
    }
   ],
   "source": [
    "# Printing the list to remind us of the elements\n",
    "print(my_list)"
   ]
  },
  {
   "cell_type": "code",
   "execution_count": 10,
   "metadata": {},
   "outputs": [
    {
     "data": {
      "text/plain": [
       "1"
      ]
     },
     "execution_count": 10,
     "metadata": {},
     "output_type": "execute_result"
    }
   ],
   "source": [
    "my_list[0]"
   ]
  },
  {
   "cell_type": "markdown",
   "metadata": {},
   "source": [
    "Your indexing can also be negative. The list indexing is cyclic, so if the first element is 0, the last element is -1, the second to last element is -2, etc. "
   ]
  },
  {
   "cell_type": "code",
   "execution_count": 11,
   "metadata": {},
   "outputs": [
    {
     "data": {
      "text/plain": [
       "7"
      ]
     },
     "execution_count": 11,
     "metadata": {},
     "output_type": "execute_result"
    }
   ],
   "source": [
    "my_list[-1]"
   ]
  },
  {
   "cell_type": "code",
   "execution_count": 12,
   "metadata": {},
   "outputs": [
    {
     "data": {
      "text/plain": [
       "6"
      ]
     },
     "execution_count": 12,
     "metadata": {},
     "output_type": "execute_result"
    }
   ],
   "source": [
    "my_list[-2]"
   ]
  },
  {
   "cell_type": "markdown",
   "metadata": {},
   "source": [
    "If your list is a list of lists, calling an index will give you the nested list. You need two indices to get individual items"
   ]
  },
  {
   "cell_type": "code",
   "execution_count": 13,
   "metadata": {},
   "outputs": [
    {
     "name": "stdout",
     "output_type": "stream",
     "text": [
      "[['saguaro', 'ocotillo', 'pitaya', 'creosote'], ['coyote', 'kangaroo mouse', 'javalina', 'gila monster']]\n"
     ]
    }
   ],
   "source": [
    "# Printing the list to remind us of the elements\n",
    "print(sonoran_plants_animals)"
   ]
  },
  {
   "cell_type": "code",
   "execution_count": 14,
   "metadata": {},
   "outputs": [
    {
     "data": {
      "text/plain": [
       "['saguaro', 'ocotillo', 'pitaya', 'creosote']"
      ]
     },
     "execution_count": 14,
     "metadata": {},
     "output_type": "execute_result"
    }
   ],
   "source": [
    "sonoran_plants_animals[0]"
   ]
  },
  {
   "cell_type": "code",
   "execution_count": 15,
   "metadata": {},
   "outputs": [
    {
     "data": {
      "text/plain": [
       "'creosote'"
      ]
     },
     "execution_count": 15,
     "metadata": {},
     "output_type": "execute_result"
    }
   ],
   "source": [
    "sonoran_plants_animals[0][-1]"
   ]
  },
  {
   "cell_type": "markdown",
   "metadata": {},
   "source": [
    "You can also make a new sublist by calling a range of indices"
   ]
  },
  {
   "cell_type": "code",
   "execution_count": 16,
   "metadata": {},
   "outputs": [
    {
     "name": "stdout",
     "output_type": "stream",
     "text": [
      "[1, 2, 3, 4, 5, 6, 7]\n"
     ]
    }
   ],
   "source": [
    "# Printing the list to remind us of the elements\n",
    "print(my_list)"
   ]
  },
  {
   "cell_type": "code",
   "execution_count": 17,
   "metadata": {},
   "outputs": [
    {
     "data": {
      "text/plain": [
       "[3, 4, 5]"
      ]
     },
     "execution_count": 17,
     "metadata": {},
     "output_type": "execute_result"
    }
   ],
   "source": [
    "my_list[2:5]"
   ]
  },
  {
   "cell_type": "markdown",
   "metadata": {},
   "source": [
    "You can also make a range with negatice indices. Order matters here, more negative number must be first"
   ]
  },
  {
   "cell_type": "code",
   "execution_count": 18,
   "metadata": {},
   "outputs": [
    {
     "data": {
      "text/plain": [
       "[4, 5, 6]"
      ]
     },
     "execution_count": 18,
     "metadata": {},
     "output_type": "execute_result"
    }
   ],
   "source": [
    "my_list[-4:-1]"
   ]
  },
  {
   "cell_type": "markdown",
   "metadata": {},
   "source": [
    "### Exercise 1.2\n",
    "\n",
    "Using the lists you made from up above do the following:\n",
    "\n",
    "1. For each list you made before, print the first and last values\n",
    "1. For each multi-dimensional list print the first and last entry of each nested list\n",
    "1. For each one-dimensional list, use a range of indices to make a new sublist"
   ]
  },
  {
   "cell_type": "code",
   "execution_count": 19,
   "metadata": {},
   "outputs": [
    {
     "name": "stdout",
     "output_type": "stream",
     "text": [
      "oneD_list_numbers:\n",
      "First Value- 1\n",
      "Last Value- 9\n",
      "New Sublist- [3, 5, 7]\n",
      "threeD_list_numbers:\n",
      "First Value- [5, 3, 1997]\n",
      "Last Value- [1, 17, 2006]\n",
      "1st Nested List-\n",
      "First Value- 5\n",
      "Last Value- 1997\n",
      "2nd Nested List-\n",
      "First Value- 4\n",
      "Last Value- 2012\n",
      "3rd Nested List-\n",
      "First Value- 1\n",
      "Last Value- 2006\n",
      "oneD_list_strings:\n",
      "First Value- blue\n",
      "Last Value- red\n",
      "New Sublist- ['green', 'purple']\n",
      "twoD_list_strings:\n",
      "First Value- ['dog', 'cat', 'leopard']\n",
      "Last Value- ['lily', 'orchid', 'rose']\n",
      "1st Nested List-\n",
      "First Value- dog\n",
      "Last Value- leopard\n",
      "2nd Nested List-\n",
      "First Value- lily\n",
      "Last Value- rose\n"
     ]
    }
   ],
   "source": [
    "# Your code here\n",
    "print(\"oneD_list_numbers:\")\n",
    "print(\"First Value-\", oneD_list_numbers[0])\n",
    "print(\"Last Value-\", oneD_list_numbers[-1])\n",
    "print(\"New Sublist-\", oneD_list_numbers[1:4])\n",
    "\n",
    "print(\"threeD_list_numbers:\")\n",
    "print(\"First Value-\", threeD_list_numbers[0])\n",
    "print(\"Last Value-\", threeD_list_numbers[-1])\n",
    "print(\"1st Nested List-\")\n",
    "print(\"First Value-\", threeD_list_numbers[0][0])\n",
    "print(\"Last Value-\", threeD_list_numbers[0][-1])\n",
    "print(\"2nd Nested List-\")\n",
    "print(\"First Value-\", threeD_list_numbers[1][0])\n",
    "print(\"Last Value-\", threeD_list_numbers[1][-1])\n",
    "print(\"3rd Nested List-\")\n",
    "print(\"First Value-\", threeD_list_numbers[2][0])\n",
    "print(\"Last Value-\", threeD_list_numbers[2][-1])\n",
    "\n",
    "print(\"oneD_list_strings:\")\n",
    "print(\"First Value-\", oneD_list_strings[0])\n",
    "print(\"Last Value-\", oneD_list_strings[-1])\n",
    "print(\"New Sublist-\", oneD_list_strings[1:3])\n",
    "\n",
    "print(\"twoD_list_strings:\")\n",
    "print(\"First Value-\", twoD_list_strings[0])\n",
    "print(\"Last Value-\", twoD_list_strings[-1])\n",
    "print(\"1st Nested List-\")\n",
    "print(\"First Value-\", twoD_list_strings[0][0])\n",
    "print(\"Last Value-\", twoD_list_strings[0][-1])\n",
    "print(\"2nd Nested List-\")\n",
    "print(\"First Value-\", twoD_list_strings[1][0])\n",
    "print(\"Last Value-\", twoD_list_strings[1][-1])"
   ]
  },
  {
   "cell_type": "markdown",
   "metadata": {},
   "source": [
    "## 1.3 Changing lists"
   ]
  },
  {
   "cell_type": "markdown",
   "metadata": {},
   "source": [
    "First, we can get the length of a list. Many times, our list is very long or read in from a file. We may need to know how long the list actual is"
   ]
  },
  {
   "cell_type": "code",
   "execution_count": 20,
   "metadata": {},
   "outputs": [
    {
     "name": "stdout",
     "output_type": "stream",
     "text": [
      "['saguaro', 'ocotillo', 'pitaya', 'creosote']\n"
     ]
    }
   ],
   "source": [
    "# Printing the list to remind us of the elements\n",
    "print(sonoran_plants)"
   ]
  },
  {
   "cell_type": "code",
   "execution_count": 21,
   "metadata": {},
   "outputs": [
    {
     "data": {
      "text/plain": [
       "4"
      ]
     },
     "execution_count": 21,
     "metadata": {},
     "output_type": "execute_result"
    }
   ],
   "source": [
    "len(sonoran_plants)"
   ]
  },
  {
   "cell_type": "markdown",
   "metadata": {},
   "source": [
    "We can change our lists after we make them. We can change individual values or we can add or remove values from a list. Note that tuples cannot be changed (they are called immutable) "
   ]
  },
  {
   "cell_type": "code",
   "execution_count": 22,
   "metadata": {},
   "outputs": [
    {
     "name": "stdout",
     "output_type": "stream",
     "text": [
      "[1, 2, 3, 4, 5, 6, 7]\n"
     ]
    }
   ],
   "source": [
    "# Printing the list to remind us of the elements\n",
    "print(my_list)"
   ]
  },
  {
   "cell_type": "markdown",
   "metadata": {},
   "source": [
    "Individual values in a list can be changed"
   ]
  },
  {
   "cell_type": "code",
   "execution_count": 23,
   "metadata": {},
   "outputs": [
    {
     "name": "stdout",
     "output_type": "stream",
     "text": [
      "[1, 2, -3, 4, 5, 6, 7]\n"
     ]
    }
   ],
   "source": [
    "my_list[2] = -3\n",
    "print(my_list)\n"
   ]
  },
  {
   "cell_type": "markdown",
   "metadata": {},
   "source": [
    "Values can be added to a list"
   ]
  },
  {
   "cell_type": "code",
   "execution_count": 24,
   "metadata": {},
   "outputs": [
    {
     "name": "stdout",
     "output_type": "stream",
     "text": [
      "[1, 2, -3, 4, 5, 6, 7, 8]\n"
     ]
    }
   ],
   "source": [
    "my_list.append(8)\n",
    "print(my_list)"
   ]
  },
  {
   "cell_type": "markdown",
   "metadata": {},
   "source": [
    "Values can be removed from a list"
   ]
  },
  {
   "cell_type": "code",
   "execution_count": 25,
   "metadata": {},
   "outputs": [
    {
     "name": "stdout",
     "output_type": "stream",
     "text": [
      "[1, 2, 4, 5, 6, 7, 8]\n"
     ]
    }
   ],
   "source": [
    "my_list.remove(-3)\n",
    "print(my_list)"
   ]
  },
  {
   "cell_type": "markdown",
   "metadata": {},
   "source": [
    "A quick note about objects. Python is an object oriented language. It's underlying philosophy is that everything is an object. An object has atributes and methods. You can get information about the attributes and you can use the methods to change the properties of the object. \n",
    "\n",
    "In python you call the object attributes or methods using this format: `object_variable.attribute` For a list, you add values by changing the attribute `list.append(x)`, `list.remove(x)`."
   ]
  },
  {
   "cell_type": "markdown",
   "metadata": {},
   "source": [
    "We can add the elements of a list to our list"
   ]
  },
  {
   "cell_type": "code",
   "execution_count": 26,
   "metadata": {},
   "outputs": [],
   "source": [
    "my_list.extend([1,2,3,4])"
   ]
  },
  {
   "cell_type": "code",
   "execution_count": 27,
   "metadata": {},
   "outputs": [
    {
     "name": "stdout",
     "output_type": "stream",
     "text": [
      "[1, 2, 4, 5, 6, 7, 8, 1, 2, 3, 4]\n"
     ]
    }
   ],
   "source": [
    "print(my_list)"
   ]
  },
  {
   "cell_type": "markdown",
   "metadata": {},
   "source": [
    "We can insert values at a given index. When using insert, the first value is the index, the second value is the new list element"
   ]
  },
  {
   "cell_type": "code",
   "execution_count": 28,
   "metadata": {},
   "outputs": [
    {
     "name": "stdout",
     "output_type": "stream",
     "text": [
      "[15, 1, 2, 4, 5, 6, 7, 8, 1, 2, 3, 4]\n"
     ]
    }
   ],
   "source": [
    "my_list.insert(0,15)\n",
    "print(my_list)"
   ]
  },
  {
   "cell_type": "markdown",
   "metadata": {},
   "source": [
    "We can remove elements at a given index"
   ]
  },
  {
   "cell_type": "code",
   "execution_count": 29,
   "metadata": {},
   "outputs": [
    {
     "name": "stdout",
     "output_type": "stream",
     "text": [
      "[15, 1, 2, 5, 6, 7, 8, 1, 2, 3, 4]\n"
     ]
    }
   ],
   "source": [
    "my_list.pop(3)\n",
    "print(my_list)"
   ]
  },
  {
   "cell_type": "markdown",
   "metadata": {},
   "source": [
    "### Exercise 1.3 \n",
    "\n",
    "For each one-dimensional list from above \n",
    "\n",
    "1. Append a new element\n",
    "1. Remove a previous element\n",
    "1. Extend the lists with new lists of elements\n",
    "1. Insert a value at the fourth index\n",
    "1. Pop the last value "
   ]
  },
  {
   "cell_type": "code",
   "execution_count": 30,
   "metadata": {},
   "outputs": [
    {
     "name": "stdout",
     "output_type": "stream",
     "text": [
      "oneD_list_numbers:\n",
      "original [1, 3, 5, 7, 9]\n",
      "[1, 3, 5, 7, 9, 11]\n",
      "[1, 3, 5, 7, 9]\n",
      "[1, 3, 5, 7, 9, 2, 4, 6, 8, 10]\n",
      "[1, 3, 5, 0, 7, 9, 2, 4, 6, 8, 10]\n",
      "[1, 3, 5, 0, 7, 9, 2, 4, 6, 8]\n",
      "oneD_list_strings:\n",
      "original ['blue', 'green', 'purple', 'red']\n",
      "['blue', 'green', 'purple', 'red', 'peach']\n",
      "['blue', 'green', 'purple', 'red']\n",
      "['blue', 'green', 'purple', 'red', 'blueberry', 'kiwi', 'grape', 'watermelon', 'banana']\n",
      "['blue', 'green', 'purple', 'dinosaur', 'red', 'blueberry', 'kiwi', 'grape', 'watermelon', 'banana']\n",
      "['blue', 'green', 'purple', 'dinosaur', 'red', 'blueberry', 'kiwi', 'grape', 'watermelon']\n"
     ]
    }
   ],
   "source": [
    "# Your code here\n",
    "print(\"oneD_list_numbers:\")\n",
    "print(\"original\", oneD_list_numbers)\n",
    "oneD_list_numbers.append(11)\n",
    "print(oneD_list_numbers)\n",
    "oneD_list_numbers.remove(11)\n",
    "print(oneD_list_numbers)\n",
    "oneD_list_numbers.extend([2,4,6,8,10])\n",
    "print(oneD_list_numbers)\n",
    "oneD_list_numbers.insert(3,0)\n",
    "print(oneD_list_numbers)\n",
    "oneD_list_numbers.pop(-1)\n",
    "print(oneD_list_numbers)\n",
    "\n",
    "print(\"oneD_list_strings:\")\n",
    "print(\"original\", oneD_list_strings)\n",
    "oneD_list_strings.append(\"peach\")\n",
    "print(oneD_list_strings)\n",
    "oneD_list_strings.remove(\"peach\")\n",
    "print(oneD_list_strings)\n",
    "oneD_list_strings.extend([\"blueberry\",\"kiwi\",\"grape\",\"watermelon\", \"banana\"])\n",
    "print(oneD_list_strings)\n",
    "oneD_list_strings.insert(3,\"dinosaur\")\n",
    "print(oneD_list_strings)\n",
    "oneD_list_strings.pop(-1)\n",
    "print(oneD_list_strings)"
   ]
  },
  {
   "cell_type": "markdown",
   "metadata": {},
   "source": [
    "## 1.4 Counting, sorting, and looping methods"
   ]
  },
  {
   "cell_type": "markdown",
   "metadata": {},
   "source": [
    "There are a number of other list methods you can use to change your list. To demonstrate these methods, we will make a list of random integers using the append method"
   ]
  },
  {
   "cell_type": "code",
   "execution_count": 31,
   "metadata": {},
   "outputs": [
    {
     "name": "stdout",
     "output_type": "stream",
     "text": [
      "[3, 9, 2, 8, 3, 9, 8, 7, 6, 5, 2, 6, 7, 3, 1, 3, 8, 1, 8, 4, 0, 0, 6, 6, 2, 5, 1, 1, 7, 7, 3, 2, 3, 4, 3, 3, 9, 8, 2, 8, 1, 7, 5, 7, 8, 6, 7, 8, 7, 6, 8, 9, 7, 0, 4, 4, 9, 5, 9, 9, 8, 4, 0, 5, 9, 2, 6, 6, 3, 3, 2, 2, 1, 2, 1, 9, 7, 5, 7, 7, 2, 9, 3, 5, 1, 5, 3, 6, 5, 2, 5, 5, 9, 3, 5, 9, 8, 1, 8, 7]\n"
     ]
    }
   ],
   "source": [
    "# Build a list of random integers\n",
    "import random # import random number generator library\n",
    "\n",
    "rand_list=[] # Note this starts as an empty list\n",
    "\n",
    "for i in range(0,100):\n",
    "    rand_num=random.randrange(0,10)\n",
    "    rand_list.append(rand_num)\n",
    "    \n",
    "print(rand_list)"
   ]
  },
  {
   "cell_type": "markdown",
   "metadata": {},
   "source": [
    "We can count the number of times a value is found in our list. This can be really useful for analysis"
   ]
  },
  {
   "cell_type": "code",
   "execution_count": 32,
   "metadata": {},
   "outputs": [
    {
     "data": {
      "text/plain": [
       "13"
      ]
     },
     "execution_count": 32,
     "metadata": {},
     "output_type": "execute_result"
    }
   ],
   "source": [
    "rand_list.count(3)"
   ]
  },
  {
   "cell_type": "markdown",
   "metadata": {},
   "source": [
    "We can determine the index of the first instance of a value"
   ]
  },
  {
   "cell_type": "code",
   "execution_count": 33,
   "metadata": {},
   "outputs": [
    {
     "data": {
      "text/plain": [
       "0"
      ]
     },
     "execution_count": 33,
     "metadata": {},
     "output_type": "execute_result"
    }
   ],
   "source": [
    "rand_list.index(3)"
   ]
  },
  {
   "cell_type": "markdown",
   "metadata": {},
   "source": [
    "The first time that a 3 is found is at list index 0. If you want to keep finding values of 3, you can use a range index to get the other values"
   ]
  },
  {
   "cell_type": "code",
   "execution_count": 34,
   "metadata": {},
   "outputs": [
    {
     "data": {
      "text/plain": [
       "3"
      ]
     },
     "execution_count": 34,
     "metadata": {},
     "output_type": "execute_result"
    }
   ],
   "source": [
    "rand_list[1:-1].index(3)"
   ]
  },
  {
   "cell_type": "code",
   "execution_count": 35,
   "metadata": {},
   "outputs": [
    {
     "data": {
      "text/plain": [
       "11"
      ]
     },
     "execution_count": 35,
     "metadata": {},
     "output_type": "execute_result"
    }
   ],
   "source": [
    "rand_list[19:-1].index(3)"
   ]
  },
  {
   "cell_type": "markdown",
   "metadata": {},
   "source": [
    "The reason this gives you 1 is that the next instance of 3 is the $20^{\\text{th}}$ element $(19+1)$"
   ]
  },
  {
   "cell_type": "markdown",
   "metadata": {},
   "source": [
    "We can also sort the list"
   ]
  },
  {
   "cell_type": "code",
   "execution_count": 36,
   "metadata": {},
   "outputs": [
    {
     "name": "stdout",
     "output_type": "stream",
     "text": [
      "[0, 0, 0, 0, 1, 1, 1, 1, 1, 1, 1, 1, 1, 2, 2, 2, 2, 2, 2, 2, 2, 2, 2, 2, 3, 3, 3, 3, 3, 3, 3, 3, 3, 3, 3, 3, 3, 4, 4, 4, 4, 4, 5, 5, 5, 5, 5, 5, 5, 5, 5, 5, 5, 5, 6, 6, 6, 6, 6, 6, 6, 6, 6, 7, 7, 7, 7, 7, 7, 7, 7, 7, 7, 7, 7, 7, 8, 8, 8, 8, 8, 8, 8, 8, 8, 8, 8, 8, 9, 9, 9, 9, 9, 9, 9, 9, 9, 9, 9, 9]\n"
     ]
    }
   ],
   "source": [
    "rand_list.sort()\n",
    "print(rand_list)"
   ]
  },
  {
   "cell_type": "markdown",
   "metadata": {},
   "source": [
    "We can reverse the list"
   ]
  },
  {
   "cell_type": "code",
   "execution_count": 37,
   "metadata": {},
   "outputs": [
    {
     "name": "stdout",
     "output_type": "stream",
     "text": [
      "[9, 9, 9, 9, 9, 9, 9, 9, 9, 9, 9, 9, 8, 8, 8, 8, 8, 8, 8, 8, 8, 8, 8, 8, 7, 7, 7, 7, 7, 7, 7, 7, 7, 7, 7, 7, 7, 6, 6, 6, 6, 6, 6, 6, 6, 6, 5, 5, 5, 5, 5, 5, 5, 5, 5, 5, 5, 5, 4, 4, 4, 4, 4, 3, 3, 3, 3, 3, 3, 3, 3, 3, 3, 3, 3, 3, 2, 2, 2, 2, 2, 2, 2, 2, 2, 2, 2, 1, 1, 1, 1, 1, 1, 1, 1, 1, 0, 0, 0, 0]\n"
     ]
    }
   ],
   "source": [
    "rand_list.reverse()\n",
    "print(rand_list)"
   ]
  },
  {
   "cell_type": "markdown",
   "metadata": {},
   "source": [
    "Lastly, any list can be looped over in python"
   ]
  },
  {
   "cell_type": "code",
   "execution_count": 38,
   "metadata": {},
   "outputs": [
    {
     "name": "stdout",
     "output_type": "stream",
     "text": [
      "saguaro\n",
      "ocotillo\n",
      "pitaya\n",
      "creosote\n"
     ]
    }
   ],
   "source": [
    "for plants in sonoran_plants:\n",
    "    print(plants)"
   ]
  },
  {
   "cell_type": "markdown",
   "metadata": {},
   "source": [
    "Multidimensional lists can also be looped over. The first loop counts over the nested loops, the second loop counts over the list elements"
   ]
  },
  {
   "cell_type": "code",
   "execution_count": 39,
   "metadata": {},
   "outputs": [
    {
     "name": "stdout",
     "output_type": "stream",
     "text": [
      "saguaro\n",
      "ocotillo\n",
      "pitaya\n",
      "creosote\n",
      "coyote\n",
      "kangaroo mouse\n",
      "javalina\n",
      "gila monster\n"
     ]
    }
   ],
   "source": [
    "for collections in sonoran_plants_animals:\n",
    "    for name in collections:\n",
    "        print(name)"
   ]
  },
  {
   "cell_type": "markdown",
   "metadata": {},
   "source": [
    "### Excercise 1.4"
   ]
  },
  {
   "cell_type": "markdown",
   "metadata": {},
   "source": [
    "For this exercise, we will creat a list of random number"
   ]
  },
  {
   "cell_type": "code",
   "execution_count": 56,
   "metadata": {},
   "outputs": [],
   "source": [
    "import random\n",
    "\n",
    "rand1=[]\n",
    "\n",
    "for i in range(0,100):\n",
    "    rand_num1=random.randrange(0,10)\n",
    "    rand1.append(rand_num1)"
   ]
  },
  {
   "cell_type": "code",
   "execution_count": 57,
   "metadata": {},
   "outputs": [
    {
     "name": "stdout",
     "output_type": "stream",
     "text": [
      "[8, 9, 3, 9, 9, 4, 0, 0, 5, 1, 9, 3, 7, 8, 6, 1, 6, 2, 0, 7, 6, 5, 7, 9, 9, 9, 6, 7, 4, 8, 9, 2, 9, 0, 5, 3, 3, 4, 7, 4, 4, 7, 7, 8, 3, 4, 9, 0, 2, 8, 0, 2, 0, 2, 9, 6, 0, 3, 9, 5, 5, 5, 5, 9, 1, 0, 5, 7, 4, 3, 4, 6, 3, 2, 9, 3, 8, 4, 2, 9, 3, 9, 0, 3, 7, 1, 3, 1, 6, 5, 8, 1, 4, 0, 9, 3, 3, 2, 3, 1]\n"
     ]
    }
   ],
   "source": [
    "print(rand1)"
   ]
  },
  {
   "cell_type": "markdown",
   "metadata": {},
   "source": [
    "Using the list above, \n",
    "\n",
    "1. Count and print the number of instances of each integer (**Hint:** you can use a loop ranging from 0-9 to do this)\n",
    "2. Loop over the elements of rand1 and make a new list that labels each element as even or odd. For example given the list `[1,6,9]`, you would have a list that looked like `[\"odd\",\"even\",\"odd\"]`. \n",
    "\n",
    "Hint: You can use the modulo operator `a%b`. This operator give you the remainder when you divide a by b. If `a/b` has no remainder, then `a%b=0` See the examples below.\n"
   ]
  },
  {
   "cell_type": "code",
   "execution_count": 42,
   "metadata": {},
   "outputs": [
    {
     "name": "stdout",
     "output_type": "stream",
     "text": [
      "0\n",
      "1\n"
     ]
    }
   ],
   "source": [
    "# Modulo example\n",
    "print(4%2)\n",
    "print(4%3)"
   ]
  },
  {
   "cell_type": "code",
   "execution_count": 43,
   "metadata": {},
   "outputs": [
    {
     "name": "stdout",
     "output_type": "stream",
     "text": [
      "even\n"
     ]
    }
   ],
   "source": [
    "# Module conditional\n",
    "i=4\n",
    "if (i%2==0):\n",
    "    print(\"even\")\n",
    "else:\n",
    "    print(\"odd\")"
   ]
  },
  {
   "cell_type": "markdown",
   "metadata": {},
   "source": [
    "Remember that you can always make new cells. Use them to test parts of your code along the way and to seperate your code to make it readable"
   ]
  },
  {
   "cell_type": "code",
   "execution_count": 58,
   "metadata": {},
   "outputs": [
    {
     "name": "stdout",
     "output_type": "stream",
     "text": [
      "[8, 9, 3, 9, 9, 4, 0, 0, 5, 1, 9, 3, 7, 8, 6, 1, 6, 2, 0, 7, 6, 5, 7, 9, 9, 9, 6, 7, 4, 8, 9, 2, 9, 0, 5, 3, 3, 4, 7, 4, 4, 7, 7, 8, 3, 4, 9, 0, 2, 8, 0, 2, 0, 2, 9, 6, 0, 3, 9, 5, 5, 5, 5, 9, 1, 0, 5, 7, 4, 3, 4, 6, 3, 2, 9, 3, 8, 4, 2, 9, 3, 9, 0, 3, 7, 1, 3, 1, 6, 5, 8, 1, 4, 0, 9, 3, 3, 2, 3, 1]\n"
     ]
    }
   ],
   "source": [
    "print(rand1)"
   ]
  },
  {
   "cell_type": "code",
   "execution_count": 60,
   "metadata": {},
   "outputs": [
    {
     "name": "stdout",
     "output_type": "stream",
     "text": [
      "integer: 0\n",
      "11\n",
      "integer: 1\n",
      "7\n",
      "integer: 2\n",
      "8\n",
      "integer: 3\n",
      "15\n",
      "integer: 4\n",
      "10\n",
      "integer: 5\n",
      "9\n",
      "integer: 6\n",
      "7\n",
      "integer: 7\n",
      "9\n",
      "integer: 8\n",
      "7\n",
      "integer: 9\n",
      "17\n"
     ]
    }
   ],
   "source": [
    "for i in range(0,10):\n",
    "    print(\"integer:\", i)\n",
    "    print(rand1.count(i))"
   ]
  },
  {
   "cell_type": "code",
   "execution_count": 61,
   "metadata": {},
   "outputs": [
    {
     "name": "stdout",
     "output_type": "stream",
     "text": [
      "even\n",
      "odd\n",
      "odd\n",
      "odd\n",
      "odd\n",
      "even\n",
      "even\n",
      "even\n",
      "odd\n",
      "odd\n",
      "odd\n",
      "odd\n",
      "odd\n",
      "even\n",
      "even\n",
      "odd\n",
      "even\n",
      "even\n",
      "even\n",
      "odd\n",
      "even\n",
      "odd\n",
      "odd\n",
      "odd\n",
      "odd\n",
      "odd\n",
      "even\n",
      "odd\n",
      "even\n",
      "even\n",
      "odd\n",
      "even\n",
      "odd\n",
      "even\n",
      "odd\n",
      "odd\n",
      "odd\n",
      "even\n",
      "odd\n",
      "even\n",
      "even\n",
      "odd\n",
      "odd\n",
      "even\n",
      "odd\n",
      "even\n",
      "odd\n",
      "even\n",
      "even\n",
      "even\n",
      "even\n",
      "even\n",
      "even\n",
      "even\n",
      "odd\n",
      "even\n",
      "even\n",
      "odd\n",
      "odd\n",
      "odd\n",
      "odd\n",
      "odd\n",
      "odd\n",
      "odd\n",
      "odd\n",
      "even\n",
      "odd\n",
      "odd\n",
      "even\n",
      "odd\n",
      "even\n",
      "even\n",
      "odd\n",
      "even\n",
      "odd\n",
      "odd\n",
      "even\n",
      "even\n",
      "even\n",
      "odd\n",
      "odd\n",
      "odd\n",
      "even\n",
      "odd\n",
      "odd\n",
      "odd\n",
      "odd\n",
      "odd\n",
      "even\n",
      "odd\n",
      "even\n",
      "odd\n",
      "even\n",
      "even\n",
      "odd\n",
      "odd\n",
      "odd\n",
      "even\n",
      "odd\n",
      "odd\n"
     ]
    }
   ],
   "source": [
    "for i in rand1:\n",
    "    if (i%2==0):\n",
    "        print(\"even\")\n",
    "    else:\n",
    "        print(\"odd\")\n",
    "    "
   ]
  },
  {
   "cell_type": "code",
   "execution_count": 62,
   "metadata": {},
   "outputs": [
    {
     "name": "stdout",
     "output_type": "stream",
     "text": [
      "['even', 'odd', 'odd', 'odd', 'odd', 'even', 'even', 'even', 'odd', 'odd', 'odd', 'odd', 'odd', 'even', 'even', 'odd', 'even', 'even', 'even', 'odd', 'even', 'odd', 'odd', 'odd', 'odd', 'odd', 'even', 'odd', 'even', 'even', 'odd', 'even', 'odd', 'even', 'odd', 'odd', 'odd', 'even', 'odd', 'even', 'even', 'odd', 'odd', 'even', 'odd', 'even', 'odd', 'even', 'even', 'even', 'even', 'even', 'even', 'even', 'odd', 'even', 'even', 'odd', 'odd', 'odd', 'odd', 'odd', 'odd', 'odd', 'odd', 'even', 'odd', 'odd', 'even', 'odd', 'even', 'even', 'odd', 'even', 'odd', 'odd', 'even', 'even', 'even', 'odd', 'odd', 'odd', 'even', 'odd', 'odd', 'odd', 'odd', 'odd', 'even', 'odd', 'even', 'odd', 'even', 'even', 'odd', 'odd', 'odd', 'even', 'odd', 'odd']\n"
     ]
    }
   ],
   "source": [
    "rand2=[]\n",
    "\n",
    "for i in rand1:\n",
    "    if (i%2==0):\n",
    "        rand2.append(\"even\")\n",
    "    else:\n",
    "        rand2.append(\"odd\")\n",
    "print(rand2)\n"
   ]
  },
  {
   "cell_type": "code",
   "execution_count": null,
   "metadata": {},
   "outputs": [],
   "source": []
  }
 ],
 "metadata": {
  "kernelspec": {
   "display_name": "Python 3",
   "language": "python",
   "name": "python3"
  },
  "language_info": {
   "codemirror_mode": {
    "name": "ipython",
    "version": 3
   },
   "file_extension": ".py",
   "mimetype": "text/x-python",
   "name": "python",
   "nbconvert_exporter": "python",
   "pygments_lexer": "ipython3",
   "version": "3.7.3"
  }
 },
 "nbformat": 4,
 "nbformat_minor": 2
}
